{
 "cells": [
  {
   "cell_type": "code",
   "execution_count": 16,
   "metadata": {},
   "outputs": [],
   "source": [
    "from dotenv import load_dotenv\n",
    "import os\n",
    "import pinecone\n",
    "from openai import OpenAI\n",
    "from pinecone import Pinecone, ServerlessSpec\n",
    "load_dotenv()\n",
    "\n",
    "OPENAI_API_KEY = os.getenv(\"OPENAI_API_KEY\")\n",
    "PINECONE_API_KEY = os.getenv(\"PINECONE_API_KEY\")\n"
   ]
  },
  {
   "cell_type": "code",
   "execution_count": 8,
   "metadata": {},
   "outputs": [],
   "source": [
    "pc= Pinecone(api_key=PINECONE_API_KEY)\n",
    "pc.create_index(name=\"rate-my-professor\", dimension=1536, metric=\"cosine\", spec=ServerlessSpec(cloud=\"aws\", region=\"us-east-1\"))"
   ]
  },
  {
   "cell_type": "code",
   "execution_count": 13,
   "metadata": {},
   "outputs": [
    {
     "data": {
      "text/plain": [
       "[{'professor': 'Dr. Emma Thompson',\n",
       "  'subject': 'Physics',\n",
       "  'stars': 5,\n",
       "  'review': \"Dr. Thompson's lectures are engaging and she explains complex concepts clearly. Always available for office hours.\"},\n",
       " {'professor': 'Prof. Michael Chen',\n",
       "  'subject': 'Computer Science',\n",
       "  'stars': 4,\n",
       "  'review': 'Challenging coursework, but Prof. Chen is helpful when you ask questions. Great real-world examples.'},\n",
       " {'professor': 'Dr. Sarah Johnson',\n",
       "  'subject': 'Psychology',\n",
       "  'stars': 3,\n",
       "  'review': 'Lectures can be dry, but the content is interesting. Wish there were more interactive elements in class.'},\n",
       " {'professor': 'Prof. David Lee',\n",
       "  'subject': 'Mathematics',\n",
       "  'stars': 5,\n",
       "  'review': \"Prof. Lee's passion for math is contagious. His problem-solving techniques have been invaluable.\"},\n",
       " {'professor': 'Dr. Rachel Green',\n",
       "  'subject': 'Biology',\n",
       "  'stars': 4,\n",
       "  'review': \"Engaging labs and field trips. Dr. Green's research experience adds depth to the course material.\"},\n",
       " {'professor': 'Prof. Robert Brown',\n",
       "  'subject': 'History',\n",
       "  'stars': 2,\n",
       "  'review': 'Knowledgeable, but lectures are hard to follow. Grading seems inconsistent at times.'},\n",
       " {'professor': 'Dr. Lisa Wang',\n",
       "  'subject': 'Chemistry',\n",
       "  'stars': 5,\n",
       "  'review': \"Dr. Wang's enthusiasm for chemistry is infectious. Her demos make complex reactions understandable.\"},\n",
       " {'professor': 'Prof. James Wilson',\n",
       "  'subject': 'English Literature',\n",
       "  'stars': 3,\n",
       "  'review': 'Insightful analysis of texts, but sometimes goes off on tangents. Essay feedback is helpful.'},\n",
       " {'professor': 'Dr. Maria Garcia',\n",
       "  'subject': 'Sociology',\n",
       "  'stars': 4,\n",
       "  'review': 'Dr. Garcia brings current events into discussions, making the course very relevant. Heavy workload though.'},\n",
       " {'professor': 'Prof. John Smith',\n",
       "  'subject': 'Economics',\n",
       "  'stars': 2,\n",
       "  'review': 'Seems knowledgeable but struggles to explain concepts clearly. Office hours are not very helpful.'},\n",
       " {'professor': 'Dr. Emily Tanner',\n",
       "  'subject': 'Art History',\n",
       "  'stars': 5,\n",
       "  'review': \"Dr. Tanner's passion for art is evident. Her virtual museum tours are a highlight of the course.\"},\n",
       " {'professor': 'Prof. Alex Nguyen',\n",
       "  'subject': 'Political Science',\n",
       "  'stars': 4,\n",
       "  'review': 'Encourages healthy debates in class. Prof. Nguyen presents balanced views on controversial topics.'},\n",
       " {'professor': 'Dr. Samuel White',\n",
       "  'subject': 'Philosophy',\n",
       "  'stars': 3,\n",
       "  'review': 'Interesting material, but Dr. White can be intimidating when asking questions. Grading is fair.'},\n",
       " {'professor': 'Prof. Olivia Martinez',\n",
       "  'subject': 'Environmental Science',\n",
       "  'stars': 5,\n",
       "  'review': 'Prof. Martinez organizes great field trips. Her course has changed how I view environmental issues.'},\n",
       " {'professor': 'Dr. Thomas Clark',\n",
       "  'subject': 'Mechanical Engineering',\n",
       "  'stars': 4,\n",
       "  'review': 'Challenging course, but Dr. Clark is always willing to help. The practical projects are excellent.'},\n",
       " {'professor': 'Prof. Anna Kowalski',\n",
       "  'subject': 'Linguistics',\n",
       "  'stars': 5,\n",
       "  'review': 'Prof. Kowalski makes language study fascinating. Her examples from various cultures are eye-opening.'},\n",
       " {'professor': 'Dr. Kevin Patel',\n",
       "  'subject': 'Business Administration',\n",
       "  'stars': 3,\n",
       "  'review': 'Good real-world examples, but lectures can be monotonous. Group projects are well-structured.'},\n",
       " {'professor': 'Prof. Laura Schmidt',\n",
       "  'subject': 'Geology',\n",
       "  'stars': 4,\n",
       "  'review': \"Prof. Schmidt's field trips are the highlight of the course. Exams are challenging but fair.\"},\n",
       " {'professor': 'Dr. Mark Taylor',\n",
       "  'subject': 'Music Theory',\n",
       "  'stars': 2,\n",
       "  'review': 'Knowledgeable but often seems unprepared for class. Assignments are returned late with little feedback.'},\n",
       " {'professor': 'Prof. Jennifer Adams',\n",
       "  'subject': 'Anthropology',\n",
       "  'stars': 5,\n",
       "  'review': 'Prof. Adams brings anthropology to life with her storytelling. Research opportunities are fantastic.'}]"
      ]
     },
     "execution_count": 13,
     "metadata": {},
     "output_type": "execute_result"
    }
   ],
   "source": [
    "import json\n",
    "data = json.load(open(\"reviews.json\"))\n",
    "data['reviews']"
   ]
  },
  {
   "cell_type": "code",
   "execution_count": 27,
   "metadata": {},
   "outputs": [],
   "source": [
    "processed_data = []\n",
    "client = OpenAI()\n",
    "\n",
    "for review in data['reviews']:\n",
    "    response = client.embeddings.create(input=review['review'], model=\"text-embedding-3-small\")\n",
    "    embedding = response.data[0].embedding\n",
    "    processed_data.append({\n",
    "         \"values\": embedding,\n",
    "         \"id\": review['professor'],\n",
    "         \"metadata\": {\n",
    "            \"review\":review['review'],\n",
    "            \"subject\": review['subject'],\n",
    "            \"stars\": review['stars'],\n",
    "         }\n",
    "\n",
    "         })\n",
    "\n",
    "# pc.upsert(index=\"rate-my-professor\", vectors=processed_data)"
   ]
  },
  {
   "cell_type": "code",
   "execution_count": 28,
   "metadata": {},
   "outputs": [
    {
     "data": {
      "text/plain": [
       "{'upserted_count': 20}"
      ]
     },
     "execution_count": 28,
     "metadata": {},
     "output_type": "execute_result"
    }
   ],
   "source": [
    "index = pc.Index(\"rate-my-professor\")\n",
    "\n",
    "index.upsert(\n",
    "    vectors=processed_data,\n",
    "    namespace=\"ns1\"\n",
    ")\n"
   ]
  },
  {
   "cell_type": "code",
   "execution_count": 29,
   "metadata": {},
   "outputs": [
    {
     "data": {
      "text/plain": [
       "{'dimension': 1536,\n",
       " 'index_fullness': 0.0,\n",
       " 'namespaces': {'ns1': {'vector_count': 20}},\n",
       " 'total_vector_count': 20}"
      ]
     },
     "execution_count": 29,
     "metadata": {},
     "output_type": "execute_result"
    }
   ],
   "source": [
    "index.describe_index_stats()"
   ]
  },
  {
   "cell_type": "code",
   "execution_count": null,
   "metadata": {},
   "outputs": [],
   "source": []
  }
 ],
 "metadata": {
  "kernelspec": {
   "display_name": "rate_my_professor-OcjE2gc2",
   "language": "python",
   "name": "python3"
  },
  "language_info": {
   "codemirror_mode": {
    "name": "ipython",
    "version": 3
   },
   "file_extension": ".py",
   "mimetype": "text/x-python",
   "name": "python",
   "nbconvert_exporter": "python",
   "pygments_lexer": "ipython3",
   "version": "3.10.4"
  }
 },
 "nbformat": 4,
 "nbformat_minor": 2
}
